{
 "cells": [
  {
   "cell_type": "markdown",
   "metadata": {},
   "source": [
    "# 1. Selección de dataset\n",
    "\n",
    "Se realizó una búsqueda en varios de los sitios recomendados en clase con el fin de encontrar un dataset con una dificultad adecuada para la tarea (nivel intermedio). Dentro los sitios principales donde se realizaron las busquedas se encuentran:\n",
    "    * Kaggle Datasets\n",
    "    * UCI Machine Learning Repository\n",
    "    * Microsoft Datasets\n",
    "\n",
    "Al final se terminó seleccionando un dataset del repositorio UCI el cual se encontra en el siguiente enlace:\n",
    "    * https://archive.ics.uci.edu/ml/datasets/Student+Performance\n",
    "\n",
    "Dicho dataset contiene la información del desempeño académico de estudiantes de secundaria en dos escuelas portuguesas, cuenta con 649 instancias y 33 atributos. Dicho dataset cuenta con resultados tanto para la materia de matemática como para la de portugues. En este caso realizaremos el pre-procesado de los resultados de matemática."
   ]
  },
  {
   "cell_type": "markdown",
   "metadata": {},
   "source": [
    "# 2. Configuración Inicial\n",
    "\n",
    "Primero importamos las bibliotecas necesarios para nuestro pre-procesado en este caso tenemos:\n",
    "* Numpy\n",
    "* Pandas\n",
    "* Matplotlib\n",
    "* sklearn"
   ]
  },
  {
   "cell_type": "code",
   "execution_count": 1,
   "metadata": {},
   "outputs": [],
   "source": [
    "import pandas as pd\n",
    "import numpy as nu\n",
    "import matplotlib.pyplot as plt\n",
    "from sklearn.preprocessing import normalize"
   ]
  },
  {
   "cell_type": "markdown",
   "metadata": {},
   "source": [
    "Posteriormente leemos el dataset que fue seleccionado con anterioridad, el mismo se encuentra en un archivo csv. El archivo csv viene separado por ';' razón por la cual es necesario especificar el tipo de caracter separador cuando se llame al API read_csv  de la biblioteca pandas."
   ]
  },
  {
   "cell_type": "code",
   "execution_count": 2,
   "metadata": {},
   "outputs": [],
   "source": [
    "students_grades = pd.read_csv(\"C:\\datasets\\student-mat.csv\", sep=';')"
   ]
  },
  {
   "cell_type": "markdown",
   "metadata": {},
   "source": [
    "Imprimimos los datos que leimos del archivo csv, con el fin de asegurarnos que se hayan leido de manera correcta."
   ]
  },
  {
   "cell_type": "code",
   "execution_count": 3,
   "metadata": {
    "scrolled": true
   },
   "outputs": [
    {
     "name": "stdout",
     "output_type": "stream",
     "text": [
      "    school sex  age address famsize Pstatus  Medu  Fedu      Mjob      Fjob  \\\n",
      "0       GP   F   18       U     GT3       A     4     4   at_home   teacher   \n",
      "1       GP   F   17       U     GT3       T     1     1   at_home     other   \n",
      "2       GP   F   15       U     LE3       T     1     1   at_home     other   \n",
      "3       GP   F   15       U     GT3       T     4     2    health  services   \n",
      "4       GP   F   16       U     GT3       T     3     3     other     other   \n",
      "..     ...  ..  ...     ...     ...     ...   ...   ...       ...       ...   \n",
      "390     MS   M   20       U     LE3       A     2     2  services  services   \n",
      "391     MS   M   17       U     LE3       T     3     1  services  services   \n",
      "392     MS   M   21       R     GT3       T     1     1     other     other   \n",
      "393     MS   M   18       R     LE3       T     3     2  services     other   \n",
      "394     MS   M   19       U     LE3       T     1     1     other   at_home   \n",
      "\n",
      "     ... famrel freetime  goout  Dalc  Walc health absences  G1  G2  G3  \n",
      "0    ...      4        3      4     1     1      3        6   5   6   6  \n",
      "1    ...      5        3      3     1     1      3        4   5   5   6  \n",
      "2    ...      4        3      2     2     3      3       10   7   8  10  \n",
      "3    ...      3        2      2     1     1      5        2  15  14  15  \n",
      "4    ...      4        3      2     1     2      5        4   6  10  10  \n",
      "..   ...    ...      ...    ...   ...   ...    ...      ...  ..  ..  ..  \n",
      "390  ...      5        5      4     4     5      4       11   9   9   9  \n",
      "391  ...      2        4      5     3     4      2        3  14  16  16  \n",
      "392  ...      5        5      3     3     3      3        3  10   8   7  \n",
      "393  ...      4        4      1     3     4      5        0  11  12  10  \n",
      "394  ...      3        2      3     3     3      5        5   8   9   9  \n",
      "\n",
      "[395 rows x 33 columns]\n"
     ]
    }
   ],
   "source": [
    "print(students_grades)"
   ]
  },
  {
   "cell_type": "markdown",
   "metadata": {},
   "source": [
    "# 3. Pre-procesado\n",
    "\n",
    "## 3.1. Atributos\n",
    "\n",
    "Ciertos atributos del conjunto de datos serán removidos dado que no aportan ningún valor, entre ellos estan:\n",
    "* 'reason': Que corresponde a la razón por la que escogieron la escuela, esto porque el analisis se enfoca más en las razones sociales, familiares, y economicas del exito escoloar.\n",
    "* 'G1' y 'G2' : Que corresponde a los resultados del primer y segundo periodo lectivo, respectivamente, esto porque nos enfocaremos mas en el resultado final ('G3') si paso la materia o no. En este caso la materia es matematicas."
   ]
  },
  {
   "cell_type": "code",
   "execution_count": 4,
   "metadata": {},
   "outputs": [],
   "source": [
    "students_grades.drop(['reason'], axis=1, inplace=True)\n",
    "students_grades.drop([  'G1'  ], axis=1, inplace=True)\n",
    "students_grades.drop([  'G2'  ], axis=1, inplace=True)"
   ]
  },
  {
   "cell_type": "markdown",
   "metadata": {},
   "source": [
    "### 3.1.1. School\n",
    "\n",
    "El conjunto de datos cuenta con un atributo llamado school, donde \"GP\" significa que el estudiante pertenece a la escuela\n",
    "Gabriel Pereira, mientras que \"MS\" significa que pertenece a la escuela Mousinho da Silveira.\n",
    "Al ser strings son datos que no pueden ser manipulados y visualizados de manera sencilla por lo que seran transformados a valores numericos, en este caso se selecciono un formato binario. En donde:\n",
    "\n",
    "* 0 : Gabriel Pereira.\n",
    "* 1 : Mousinho da Silveira."
   ]
  },
  {
   "cell_type": "code",
   "execution_count": 5,
   "metadata": {},
   "outputs": [],
   "source": [
    "students_grades.school.replace(to_replace = 'GP' , value = 0, inplace=True)\n",
    "students_grades.school.replace(to_replace = 'MS' , value = 1, inplace=True)"
   ]
  },
  {
   "cell_type": "markdown",
   "metadata": {},
   "source": [
    "Luego se realiza un simple gráfico de barras con el fin de determinar visualmente si los datos para este atributo se encuentran balanceados."
   ]
  },
  {
   "cell_type": "code",
   "execution_count": 6,
   "metadata": {},
   "outputs": [
    {
     "data": {
      "image/png": "[encoded data removed]",
      "text/plain": [
       "<Figure size 432x288 with 1 Axes>"
      ]
     },
     "metadata": {
      "needs_background": "light"
     },
     "output_type": "display_data"
    }
   ],
   "source": [
    "x_school = ['GP','MS']\n",
    "y_school =  students_grades[['school','G3']].groupby('school').count()\n",
    "y_school.columns = ['count']\n",
    "plt.bar(x_school, y_school['count'])\n",
    "plt.title('School distribution among students')\n",
    "plt.show()"
   ]
  },
  {
   "cell_type": "markdown",
   "metadata": {},
   "source": [
    "En el grafico anterior es posible observar que el atributo de school se encuentra balanceado."
   ]
  },
  {
   "cell_type": "markdown",
   "metadata": {},
   "source": [
    "### 3.1.2. Sex\n",
    "\n",
    "El atributo sex al igual que school viene en forma de string, por lo que debe ser transformado a valores númericos con el fin de poder procesar dicha información y visualizarla. Igualmente se seleccionó un formato binario donde:\n",
    "\n",
    "* 0 : Masculino.\n",
    "* 1 : Femenino."
   ]
  },
  {
   "cell_type": "code",
   "execution_count": 7,
   "metadata": {},
   "outputs": [],
   "source": [
    "students_grades.sex.replace(to_replace = \"M\", value = 0, inplace=True)\n",
    "students_grades.sex.replace(to_replace = \"F\", value = 1, inplace=True)"
   ]
  },
  {
   "cell_type": "markdown",
   "metadata": {},
   "source": [
    "Luego se realiza un simple gráfico de barras con el fin de determinar visualmente si los datos para este atributo se encuentran balanceados."
   ]
  },
  {
   "cell_type": "code",
   "execution_count": 8,
   "metadata": {},
   "outputs": [
    {
     "data": {
      "image/png": "[encoded data removed]",
      "text/plain": [
       "<Figure size 432x288 with 1 Axes>"
      ]
     },
     "metadata": {
      "needs_background": "light"
     },
     "output_type": "display_data"
    }
   ],
   "source": [
    "x_sex = ['Masculino','Femenino']\n",
    "y_sex =  students_grades[['sex','G3']].groupby('sex').count()\n",
    "y_sex.columns = ['count']\n",
    "plt.bar(x_sex, y_sex['count'])\n",
    "plt.title('Sex distribution among students')\n",
    "plt.show()"
   ]
  },
  {
   "cell_type": "markdown",
   "metadata": {},
   "source": [
    "En el grafico anterior es posible observar que el atributo de sex se encuentra balanceado."
   ]
  },
  {
   "cell_type": "markdown",
   "metadata": {},
   "source": [
    "### 3.1.3. Age\n",
    "El atributo age corresponde a la edad del estudiante la cual viene un formato númerico razón por la cual no hay que realizar ningún tipo de procesado en ella. Unicamente se revisará que los datos de este atributo se encuetren balanceados, utilizando para ello un gráfico de barras."
   ]
  },
  {
   "cell_type": "code",
   "execution_count": 9,
   "metadata": {},
   "outputs": [
    {
     "data": {
      "image/png": "[encoded data removed]",
      "text/plain": [
       "<Figure size 432x288 with 1 Axes>"
      ]
     },
     "metadata": {
      "needs_background": "light"
     },
     "output_type": "display_data"
    }
   ],
   "source": [
    "y_age = students_grades[['age','G3']].groupby('age').count()\n",
    "y_age.columns = ['count']\n",
    "plt.bar(y_age.index, y_age['count'])\n",
    "plt.title('Age distribution among students')\n",
    "plt.show()"
   ]
  },
  {
   "cell_type": "markdown",
   "metadata": {},
   "source": [
    "Podemos observar que los datos se encuentran balanceados a pesar de que hay pocos estudiantes con edades iguales o superiores a 20."
   ]
  },
  {
   "cell_type": "markdown",
   "metadata": {},
   "source": [
    "### 3.1.4. Address\n",
    "El atributo address en este caso corresponde a un dato del tipo string y que determina a si el estudiante viene de una zona rural o urbana. Al igual que en los otros casos se decidio transformarlo a un formato binario donde:\n",
    "\n",
    "* 0 : Zona Urbana.\n",
    "* 1 : Zona Rural."
   ]
  },
  {
   "cell_type": "code",
   "execution_count": 10,
   "metadata": {},
   "outputs": [],
   "source": [
    "students_grades.address.replace(to_replace = \"U\", value = 0, inplace=True)\n",
    "students_grades.address.replace(to_replace = \"R\", value = 1, inplace=True)"
   ]
  },
  {
   "cell_type": "markdown",
   "metadata": {},
   "source": [
    "Igualmente se realizá un gráfico de barras con el fin de determinar que los datos se encuentren balanceados para este atributo."
   ]
  },
  {
   "cell_type": "code",
   "execution_count": 11,
   "metadata": {},
   "outputs": [
    {
     "data": {
      "image/png": "[encoded data removed]",
      "text/plain": [
       "<Figure size 432x288 with 1 Axes>"
      ]
     },
     "metadata": {
      "needs_background": "light"
     },
     "output_type": "display_data"
    }
   ],
   "source": [
    "x_address = ['Zona Urbana','Zona rural']\n",
    "y_address =  students_grades[['address','G3']].groupby('address').count()\n",
    "y_address.columns = ['count']\n",
    "plt.bar(x_address, y_address['count'])\n",
    "plt.title('Address distribution among students')\n",
    "plt.show()"
   ]
  },
  {
   "cell_type": "markdown",
   "metadata": {},
   "source": [
    "En el grafico anterior es posible observar que el atributo de address se encuentra balanceado."
   ]
  },
  {
   "cell_type": "markdown",
   "metadata": {},
   "source": [
    "### 3.1.5. Familiy Size\n",
    "\n",
    "El atributo famsize corresponde a un string donde \"LE3\" indica que la familia esta conformada por 3 miembros o menos y \"GT3\" cuando la familia consta de más de 3 miembros. Este atributo será transformado a un formato binario donde:\n",
    "\n",
    "* 0 : Familia compuesta por 3 miembros o menos (LE3).\n",
    "* 1 : Familia compuesta por más de 3 miembros (GT3)."
   ]
  },
  {
   "cell_type": "code",
   "execution_count": 12,
   "metadata": {},
   "outputs": [],
   "source": [
    "students_grades.famsize.replace(to_replace = \"LE3\", value = 0, inplace=True)\n",
    "students_grades.famsize.replace(to_replace = \"GT3\", value = 1, inplace=True)"
   ]
  },
  {
   "cell_type": "markdown",
   "metadata": {},
   "source": [
    "Se realizá un gráfico de barras con el fin de determinar que los datos se encuentren balanceados para este atributo."
   ]
  },
  {
   "cell_type": "code",
   "execution_count": 13,
   "metadata": {},
   "outputs": [
    {
     "data": {
      "image/png": "[encoded data removed]",
      "text/plain": [
       "<Figure size 432x288 with 1 Axes>"
      ]
     },
     "metadata": {
      "needs_background": "light"
     },
     "output_type": "display_data"
    }
   ],
   "source": [
    "x_famsize = ['LE3','GT3']\n",
    "y_famsize =  students_grades[['famsize','G3']].groupby('famsize').count()\n",
    "y_famsize.columns = ['count']\n",
    "plt.bar(x_famsize, y_famsize['count'])\n",
    "plt.title('Familiy size distribution among students')\n",
    "plt.show()"
   ]
  },
  {
   "cell_type": "markdown",
   "metadata": {},
   "source": [
    "En el gráfico anterior es posible observar que el atributo de famsize se encuentra balanceado."
   ]
  },
  {
   "cell_type": "markdown",
   "metadata": {},
   "source": [
    "### 3.1.6. Parent's Cohabitation Status\n",
    "\n",
    "Este atributo esta implementando a traves de un string done \"T\" significa que ambos padres viven juntos, mientras que \"A\" significa que viven aparte, es decir, se encuentran separados. Razón por  la cual este atributo será transformado a un formato binario done:\n",
    "\n",
    "* 0 : Los padres viven juntos (T).\n",
    "* 1 : Los padres estan separados (A)."
   ]
  },
  {
   "cell_type": "code",
   "execution_count": 14,
   "metadata": {},
   "outputs": [],
   "source": [
    "students_grades.Pstatus.replace(to_replace = \"T\", value = 0, inplace=True)\n",
    "students_grades.Pstatus.replace(to_replace = \"A\", value = 1, inplace=True)"
   ]
  },
  {
   "cell_type": "markdown",
   "metadata": {},
   "source": [
    "Se realizá un gráfico de barras con el fin de determinar que los datos se encuentren balanceados para este atributo."
   ]
  },
  {
   "cell_type": "code",
   "execution_count": 15,
   "metadata": {},
   "outputs": [
    {
     "data": {
      "image/png": "[encoded data removed]",
      "text/plain": [
       "<Figure size 432x288 with 1 Axes>"
      ]
     },
     "metadata": {
      "needs_background": "light"
     },
     "output_type": "display_data"
    }
   ],
   "source": [
    "x_pstatus = ['T','A']\n",
    "y_pstatus =  students_grades[['Pstatus','G3']].groupby('Pstatus').count()\n",
    "y_pstatus.columns = ['count']\n",
    "plt.bar(x_pstatus, y_pstatus['count'])\n",
    "plt.title('Parents cohabitation status distribution among students')\n",
    "plt.show()"
   ]
  },
  {
   "cell_type": "markdown",
   "metadata": {},
   "source": [
    "### 3.1.7. Mother's Education\n",
    "\n",
    "Este atributo indica el nivel educativo de la madre, en donde:\n",
    "    * 0 - Inidica ningún tipo de educación\n",
    "    * 1 - Educación Primaria (1er grado hasta 4to grado)\n",
    "    * 2 - Educación Primaria (5to grado hasta 9no grado)\n",
    "    * 3 - Educación Secundaria\n",
    "    * 4 - Educación Universitaria\n",
    "Al estar en formato numerico no es necesario transformar dicho atributo.\n",
    "Pero si se realizá un gráfico de barras para determinar que los datos se encuentran balanceados."
   ]
  },
  {
   "cell_type": "code",
   "execution_count": 16,
   "metadata": {},
   "outputs": [
    {
     "data": {
      "image/png": "[encoded data removed]",
      "text/plain": [
       "<Figure size 432x288 with 1 Axes>"
      ]
     },
     "metadata": {
      "needs_background": "light"
     },
     "output_type": "display_data"
    }
   ],
   "source": [
    "x_medu = ['None','P1', 'P2', 'SE','HE']\n",
    "y_medu =  students_grades[['Medu','G3']].groupby('Medu').count()\n",
    "y_medu.columns = ['count']\n",
    "plt.bar(x_medu, y_medu['count'])\n",
    "plt.title('Mothers education distribution among students')\n",
    "plt.show()"
   ]
  },
  {
   "cell_type": "markdown",
   "metadata": {},
   "source": [
    "En el gráfico anterior es posible observar que los datos se encuetran balanceados."
   ]
  },
  {
   "cell_type": "markdown",
   "metadata": {},
   "source": [
    "### 3.1.8. Father's Education\n",
    "\n",
    "Este atributo indica el nivel educativo del padre, en donde:\n",
    "    * 0 - Inidica ningún tipo de educación\n",
    "    * 1 - Educación Primaria (1er grado hasta 4to grado)\n",
    "    * 2 - Educación Primaria (5to grado hasta 9no grado)\n",
    "    * 3 - Educación Secundaria\n",
    "    * 4 - Educación Universitaria\n",
    "Al estar en formato numerico no es necesario transformar dicho atributo.\n",
    "Pero si se realizá un gráfico de barras para determinar que los datos se encuentran balanceados."
   ]
  },
  {
   "cell_type": "code",
   "execution_count": 17,
   "metadata": {},
   "outputs": [
    {
     "data": {
      "image/png": "[encoded data removed]",
      "text/plain": [
       "<Figure size 432x288 with 1 Axes>"
      ]
     },
     "metadata": {
      "needs_background": "light"
     },
     "output_type": "display_data"
    }
   ],
   "source": [
    "x_fedu = ['None','P1', 'P2', 'SE','HE']\n",
    "y_fedu =  students_grades[['Fedu','G3']].groupby('Fedu').count()\n",
    "y_fedu.columns = ['count']\n",
    "plt.bar(x_fedu, y_fedu['count'])\n",
    "plt.title('Fathers education distribution among students')\n",
    "plt.show()"
   ]
  },
  {
   "cell_type": "markdown",
   "metadata": {},
   "source": [
    "En el gráfico anterior es posible observar que los datos se encuetran balanceados."
   ]
  },
  {
   "cell_type": "markdown",
   "metadata": {},
   "source": [
    "### 3.1.9. Mother's job\n",
    "\n",
    "Este atributo indica el tipo de trabajo de la madre. Las posibles opciones son: teacher, health, services, at_home, other. Al ser este tipo de atributo un string seran transformados a valores numericos donde:\n",
    "    * 0 - \"at_home\"\n",
    "    * 1 - \"teacher\"\n",
    "    * 2 - \"services\"\n",
    "    * 3 - \"health\"\n",
    "    * 4 - \"other\""
   ]
  },
  {
   "cell_type": "code",
   "execution_count": 18,
   "metadata": {},
   "outputs": [],
   "source": [
    "students_grades.Mjob.replace(to_replace = \"at_home\" , value = 0, inplace=True)\n",
    "students_grades.Mjob.replace(to_replace = \"teacher\" , value = 1, inplace=True)\n",
    "students_grades.Mjob.replace(to_replace = \"services\", value = 2, inplace=True)\n",
    "students_grades.Mjob.replace(to_replace = \"health\"  , value = 3, inplace=True)\n",
    "students_grades.Mjob.replace(to_replace = \"other\"   , value = 4, inplace=True)"
   ]
  },
  {
   "cell_type": "markdown",
   "metadata": {},
   "source": [
    "Ademas, se realizá un gráfico de barras para determinar que los datos se encuentran balanceados."
   ]
  },
  {
   "cell_type": "code",
   "execution_count": 19,
   "metadata": {},
   "outputs": [
    {
     "data": {
      "image/png": "[encoded data removed]",
      "text/plain": [
       "<Figure size 432x288 with 1 Axes>"
      ]
     },
     "metadata": {
      "needs_background": "light"
     },
     "output_type": "display_data"
    }
   ],
   "source": [
    "x_mjob = ['Home','Teach', 'Serv', 'Heal','Other']\n",
    "y_mjob =  students_grades[['Mjob','G3']].groupby('Mjob').count()\n",
    "y_mjob.columns = ['count']\n",
    "plt.bar(x_mjob, y_mjob['count'])\n",
    "plt.title('Mothers job distribution among students')\n",
    "plt.show()"
   ]
  },
  {
   "cell_type": "markdown",
   "metadata": {},
   "source": [
    "En el gráfico anterior es posible observar que los datos se encuetran balanceados."
   ]
  },
  {
   "cell_type": "markdown",
   "metadata": {},
   "source": [
    "### 3.1.10. Father's job\n",
    "\n",
    "Este atributo indica el tipo de trabajo del padre. Las posibles opciones son: teacher, health, services, at_home, other. Al ser este tipo de atributo un string serán transformados a valores númericos donde:\n",
    "    * 0 - \"at_home\"\n",
    "    * 1 - \"teacher\"\n",
    "    * 2 - \"services\"\n",
    "    * 3 - \"health\"\n",
    "    * 4 - \"other\""
   ]
  },
  {
   "cell_type": "code",
   "execution_count": 20,
   "metadata": {},
   "outputs": [],
   "source": [
    "students_grades.Fjob.replace(to_replace = \"at_home\" , value = 0, inplace=True)\n",
    "students_grades.Fjob.replace(to_replace = \"teacher\" , value = 1, inplace=True)\n",
    "students_grades.Fjob.replace(to_replace = \"services\", value = 2, inplace=True)\n",
    "students_grades.Fjob.replace(to_replace = \"health\"  , value = 3, inplace=True)\n",
    "students_grades.Fjob.replace(to_replace = \"other\"   , value = 4, inplace=True)"
   ]
  },
  {
   "cell_type": "markdown",
   "metadata": {},
   "source": [
    "Ademas, se realizá un gráfico de barras para determinar que los datos se encuentran balanceados."
   ]
  },
  {
   "cell_type": "code",
   "execution_count": 21,
   "metadata": {},
   "outputs": [
    {
     "data": {
      "image/png": "[encoded data removed]",
      "text/plain": [
       "<Figure size 432x288 with 1 Axes>"
      ]
     },
     "metadata": {
      "needs_background": "light"
     },
     "output_type": "display_data"
    }
   ],
   "source": [
    "x_fjob = ['Home','Teach', 'Serv', 'Heal','Other']\n",
    "y_fjob =  students_grades[['Fjob','G3']].groupby('Fjob').count()\n",
    "y_fjob.columns = ['count']\n",
    "plt.bar(x_fjob, y_fjob['count'])\n",
    "plt.title('Fathers job distribution among students')\n",
    "plt.show()"
   ]
  },
  {
   "cell_type": "markdown",
   "metadata": {},
   "source": [
    "En el gráfico anterior es posible observar que los datos se encuentran balanceados."
   ]
  },
  {
   "cell_type": "markdown",
   "metadata": {},
   "source": [
    "### 3.1.11. Guardian\n",
    "\n",
    "Este atributo corresponde al adulto responsable de estudiante siendo un string, razón por la cual dicho atributo será transformado a un valor númerico con el fin de poderlo procesar y visualizar, en donde:\n",
    "\n",
    "* 0 : Madre.\n",
    "* 1 : Padre.\n",
    "* 2 : Otro."
   ]
  },
  {
   "cell_type": "code",
   "execution_count": 22,
   "metadata": {},
   "outputs": [],
   "source": [
    "students_grades.guardian.replace(to_replace = \"mother\" , value = 0, inplace=True)\n",
    "students_grades.guardian.replace(to_replace = \"father\" , value = 1, inplace=True)\n",
    "students_grades.guardian.replace(to_replace = \"other\"  , value = 2, inplace=True)"
   ]
  },
  {
   "cell_type": "markdown",
   "metadata": {},
   "source": [
    "Ademas, se realizá un gráfico de barras para determinar que los datos se encuentran balanceados."
   ]
  },
  {
   "cell_type": "code",
   "execution_count": 23,
   "metadata": {},
   "outputs": [
    {
     "data": {
      "image/png": "[encoded data removed]",
      "text/plain": [
       "<Figure size 432x288 with 1 Axes>"
      ]
     },
     "metadata": {
      "needs_background": "light"
     },
     "output_type": "display_data"
    }
   ],
   "source": [
    "x_guardian = ['Mother','Father', 'Other']\n",
    "y_guardian =  students_grades[['guardian','G3']].groupby('guardian').count()\n",
    "y_guardian.columns = ['count']\n",
    "plt.bar(x_guardian, y_guardian['count'])\n",
    "plt.title('Students guardian distribution')\n",
    "plt.show()"
   ]
  },
  {
   "cell_type": "markdown",
   "metadata": {},
   "source": [
    "En el gráfico anterior es posible observar que los datos se encuentran balanceados."
   ]
  },
  {
   "cell_type": "markdown",
   "metadata": {},
   "source": [
    "### 3.1.12. Travel Time\n",
    "\n",
    "Este atributo corresponde al tiempo que requieren los estudiantes para viajar al centro educativo donde:\n",
    "* 1 : < 15 min.\n",
    "* 2 : 15 a 30 min.\n",
    "* 3 : 30 a 60 min.\n",
    "* 4 : > 1 hora.\n",
    "\n",
    "Al estar en valores numericos no es necesario realizar ningún tipo de transformación, pero si se realizará un gráfico de barras con el fin de determinar que los datos se encuetren balanceados."
   ]
  },
  {
   "cell_type": "code",
   "execution_count": 24,
   "metadata": {
    "scrolled": true
   },
   "outputs": [
    {
     "data": {
      "image/png": "[encoded data removed]",
      "text/plain": [
       "<Figure size 432x288 with 1 Axes>"
      ]
     },
     "metadata": {
      "needs_background": "light"
     },
     "output_type": "display_data"
    }
   ],
   "source": [
    "x_traveltime = ['< 15 min','15 - 30 min', '30 - 60 min', '> 60 min']\n",
    "y_traveltime =  students_grades[['traveltime','G3']].groupby('traveltime').count()\n",
    "y_traveltime.columns = ['count']\n",
    "plt.bar(x_traveltime, y_traveltime['count'])\n",
    "plt.title('Students travel time distribution')\n",
    "plt.show()"
   ]
  },
  {
   "cell_type": "markdown",
   "metadata": {},
   "source": [
    "En el gráfico anterior es posible observar que los datos se encuentran balanceados."
   ]
  },
  {
   "cell_type": "markdown",
   "metadata": {},
   "source": [
    "### 3.1.13. Study Time\n",
    "\n",
    "Este atributo indica el tiempo estimado de estudio invertido por el estudiante semanalmente. El mismo se encuentra categorizado de la siguiente manera:\n",
    "\n",
    "* 1 : < 2 horas\n",
    "* 2 : 2 a 5 horas\n",
    "* 3 : 5 a 10 horas\n",
    "* 4 : > 10 horas\n",
    "\n",
    "Al estar en valores númericos no es necesario realizar ningún tipo de transformación, pero si se realizará un gráfico de barras con el fin de determinar que los datos se encuetren balanceados."
   ]
  },
  {
   "cell_type": "code",
   "execution_count": 25,
   "metadata": {},
   "outputs": [
    {
     "data": {
      "image/png": "[encoded data removed]",
      "text/plain": [
       "<Figure size 432x288 with 1 Axes>"
      ]
     },
     "metadata": {
      "needs_background": "light"
     },
     "output_type": "display_data"
    }
   ],
   "source": [
    "x_studytime = ['< 2 h','2 - 5 h', '5 - 10 h', '> 10 h']\n",
    "y_studytime =  students_grades[['studytime','G3']].groupby('studytime').count()\n",
    "y_studytime.columns = ['count']\n",
    "plt.bar(x_studytime, y_studytime['count'])\n",
    "plt.title('Students study time distribution')\n",
    "plt.show()"
   ]
  },
  {
   "cell_type": "markdown",
   "metadata": {},
   "source": [
    "En el gráfico anterior podemos observar que los datos se encuetran balanceados."
   ]
  },
  {
   "cell_type": "markdown",
   "metadata": {},
   "source": [
    "### 3.1.14. Failures\n",
    "\n",
    "Este atributo indica el número de materias pasadas falladas por el estudiante, es importante mencionar que se asignó un valor de 4 en el caso que se haya fallado 4 o más materias. Al estar los datos en valor númerico no fue necesario realizar ningún tipo de transformación, pero si es necesario realizar un gráfico de barras con el fin de determinar si los datos se encuentran balanceados."
   ]
  },
  {
   "cell_type": "code",
   "execution_count": 26,
   "metadata": {},
   "outputs": [
    {
     "data": {
      "image/png": "[encoded data removed]",
      "text/plain": [
       "<Figure size 432x288 with 1 Axes>"
      ]
     },
     "metadata": {
      "needs_background": "light"
     },
     "output_type": "display_data"
    }
   ],
   "source": [
    "y_failures =  students_grades[['failures','G3']].groupby('failures').count()\n",
    "y_failures.columns = ['count']\n",
    "plt.bar(y_failures.index, y_failures['count'])\n",
    "plt.title('Number of class failures distribution among students')\n",
    "plt.show()"
   ]
  },
  {
   "cell_type": "markdown",
   "metadata": {},
   "source": [
    "### 3.1.15. Educational Support\n",
    "\n",
    "Este atributo indica si el estudiante recibe ayuda educativa de cualquier indole. Los datos para este atributo son del tipo string y corresponden a 'yes' ó 'no'. Razón por la cual los mismos serán transformados a valores binarions donde:\n",
    "\n",
    "* 0 : No recibe ayuda educativa.\n",
    "* 1 : Si recibe ayuda educativa."
   ]
  },
  {
   "cell_type": "code",
   "execution_count": 27,
   "metadata": {},
   "outputs": [],
   "source": [
    "students_grades.schoolsup.replace(to_replace = \"no\"  , value = 0, inplace=True)\n",
    "students_grades.schoolsup.replace(to_replace = \"yes\" , value = 1, inplace=True)"
   ]
  },
  {
   "cell_type": "markdown",
   "metadata": {},
   "source": [
    "Se realizá un gráfico de barras con el fin de determinar si los datos se encuentran distribuidos."
   ]
  },
  {
   "cell_type": "code",
   "execution_count": 28,
   "metadata": {},
   "outputs": [
    {
     "data": {
      "image/png": "[encoded data removed]",
      "text/plain": [
       "<Figure size 432x288 with 1 Axes>"
      ]
     },
     "metadata": {
      "needs_background": "light"
     },
     "output_type": "display_data"
    }
   ],
   "source": [
    "x_schoolsup = ['No','Si']\n",
    "y_schoolsup =  students_grades[['schoolsup','G3']].groupby('schoolsup').count()\n",
    "y_schoolsup.columns = ['count']\n",
    "plt.bar(x_schoolsup, y_schoolsup['count'])\n",
    "plt.title('Educational support distribution among students')\n",
    "plt.show()"
   ]
  },
  {
   "cell_type": "markdown",
   "metadata": {},
   "source": [
    "En el gráfico anterior podemos observar que los datos se encuetran balanceados."
   ]
  },
  {
   "cell_type": "markdown",
   "metadata": {},
   "source": [
    "### 3.1.16. Family Educational Support\n",
    "\n",
    "Este atributo indica si el estudiante recibe ayuda de su familia para la educación, Los datos para este atributo son del tipo string y corresponden a 'yes' ó 'no'. Razón por la cual los mismos serán transformados a valores binarions donde:\n",
    "\n",
    "* 0 : No recibe ayuda educativa de su familia.\n",
    "* 1 : Si recibe ayuda educativa de su familia."
   ]
  },
  {
   "cell_type": "code",
   "execution_count": 29,
   "metadata": {},
   "outputs": [],
   "source": [
    "students_grades.famsup.replace(to_replace = \"no\"  , value = 0, inplace=True)\n",
    "students_grades.famsup.replace(to_replace = \"yes\" , value = 1, inplace=True)"
   ]
  },
  {
   "cell_type": "markdown",
   "metadata": {},
   "source": [
    "Se realizá un gráfico de barras con el fin de determinar si los datos se encuentran distribuidos."
   ]
  },
  {
   "cell_type": "code",
   "execution_count": 30,
   "metadata": {
    "scrolled": true
   },
   "outputs": [
    {
     "data": {
      "image/png": "[encoded data removed]",
      "text/plain": [
       "<Figure size 432x288 with 1 Axes>"
      ]
     },
     "metadata": {
      "needs_background": "light"
     },
     "output_type": "display_data"
    }
   ],
   "source": [
    "x_famsup = ['No','Si']\n",
    "y_famsup =  students_grades[['famsup','G3']].groupby('famsup').count()\n",
    "y_famsup.columns = ['count']\n",
    "plt.bar(x_famsup, y_famsup['count'])\n",
    "plt.title('Family educational support distribution among students')\n",
    "plt.show()"
   ]
  },
  {
   "cell_type": "markdown",
   "metadata": {},
   "source": [
    "En el gráfico anterior podemos observar que los datos se encuetran balanceados."
   ]
  },
  {
   "cell_type": "markdown",
   "metadata": {},
   "source": [
    "### 3.1.7. Extra Paid Classes\n",
    "\n",
    "Este atributo indica si al estudiante se le pagan clases aparte sobre la materia en cuestión. Este dato corresponde a un string con los valores de 'yes' ó 'no'. Razón por la cual dichos valores serán transformados a datos númericos de la siguiente manera:\n",
    "\n",
    "* 0 : No se le pagan clases por aparte.\n",
    "* 1 : Si se le pagan clases por aparte."
   ]
  },
  {
   "cell_type": "code",
   "execution_count": 31,
   "metadata": {},
   "outputs": [],
   "source": [
    "students_grades.paid.replace(to_replace = \"no\"  , value = 0, inplace=True)\n",
    "students_grades.paid.replace(to_replace = \"yes\" , value = 1, inplace=True)"
   ]
  },
  {
   "cell_type": "markdown",
   "metadata": {},
   "source": [
    "Ademas, se realizará un gráfico de barras con el fin de observar si los datos se encuentran balanceados para este atributo."
   ]
  },
  {
   "cell_type": "code",
   "execution_count": 32,
   "metadata": {},
   "outputs": [
    {
     "data": {
      "image/png": "[encoded data removed]",
      "text/plain": [
       "<Figure size 432x288 with 1 Axes>"
      ]
     },
     "metadata": {
      "needs_background": "light"
     },
     "output_type": "display_data"
    }
   ],
   "source": [
    "x_paid = ['No','Si']\n",
    "y_paid =  students_grades[['paid','G3']].groupby('paid').count()\n",
    "y_paid.columns = ['count']\n",
    "plt.bar(x_paid, y_paid['count'])\n",
    "plt.title('Extra paid classes distribution among students')\n",
    "plt.show()"
   ]
  },
  {
   "cell_type": "markdown",
   "metadata": {},
   "source": [
    "En el gráfico anterior es posible observar que los datos se encuentran balanceados para este atributo."
   ]
  },
  {
   "cell_type": "markdown",
   "metadata": {},
   "source": [
    "### 3.1.8. Activities\n",
    "\n",
    "Este atributo indica si el estudiante realiza actividades extra curriculares, dicho atributo viene con valores de 'yes' ó 'no'. Razón por la cual es necesario transformarlos a valores númericos de la siguiente manera:\n",
    "\n",
    "* 0 : No realiza actividades extra curriculares.\n",
    "* 1 : Si realiza actividades extra curriculares."
   ]
  },
  {
   "cell_type": "code",
   "execution_count": 33,
   "metadata": {},
   "outputs": [],
   "source": [
    "students_grades.activities.replace(to_replace = \"no\"  , value = 0, inplace=True)\n",
    "students_grades.activities.replace(to_replace = \"yes\" , value = 1, inplace=True)"
   ]
  },
  {
   "cell_type": "markdown",
   "metadata": {},
   "source": [
    "Se utiliza un gráfico de barras para determinar si los datos se encuentran balanceados para este atributo."
   ]
  },
  {
   "cell_type": "code",
   "execution_count": 34,
   "metadata": {},
   "outputs": [
    {
     "data": {
      "image/png": "[encoded data removed]",
      "text/plain": [
       "<Figure size 432x288 with 1 Axes>"
      ]
     },
     "metadata": {
      "needs_background": "light"
     },
     "output_type": "display_data"
    }
   ],
   "source": [
    "x_activities = ['No','Si']\n",
    "y_activities =  students_grades[['activities','G3']].groupby('activities').count()\n",
    "y_activities.columns = ['count']\n",
    "plt.bar(x_activities, y_activities['count'])\n",
    "plt.title('Extra-curricular activities distribution among students')\n",
    "plt.show()"
   ]
  },
  {
   "cell_type": "markdown",
   "metadata": {},
   "source": [
    "En la gráfica anterior es posible observar que los datos se encuentran balanceados."
   ]
  },
  {
   "cell_type": "markdown",
   "metadata": {},
   "source": [
    "### 3.1.19. Nursery\n",
    "\n",
    "Este atributo indica si el estudiante asistió a un jardín de niños público o no. Los valores para este atributo son strings con  'yes' ó 'no', razón por la cual deben ser transformados a valores númericos donde:\n",
    "\n",
    "* 0 : No asistió a un jardín de niños público.\n",
    "* 1 : Si asistió a un jardín de niños público."
   ]
  },
  {
   "cell_type": "code",
   "execution_count": 35,
   "metadata": {},
   "outputs": [],
   "source": [
    "students_grades.nursery.replace(to_replace = \"no\"  , value = 0, inplace=True)\n",
    "students_grades.nursery.replace(to_replace = \"yes\" , value = 1, inplace=True)"
   ]
  },
  {
   "cell_type": "markdown",
   "metadata": {},
   "source": [
    "Al igual que los otros atributos se realiza una gráfica de barras para determinar si los datos se encuentran balanceados o no."
   ]
  },
  {
   "cell_type": "code",
   "execution_count": 36,
   "metadata": {},
   "outputs": [
    {
     "data": {
      "image/png": "[encoded data removed]",
      "text/plain": [
       "<Figure size 432x288 with 1 Axes>"
      ]
     },
     "metadata": {
      "needs_background": "light"
     },
     "output_type": "display_data"
    }
   ],
   "source": [
    "x_nursery = ['No','Si']\n",
    "y_nursery =  students_grades[['nursery','G3']].groupby('nursery').count()\n",
    "y_nursery.columns = ['count']\n",
    "plt.bar(x_nursery, y_nursery['count'])\n",
    "plt.title('Students public nursery attended')\n",
    "plt.show()"
   ]
  },
  {
   "cell_type": "markdown",
   "metadata": {},
   "source": [
    "En el gráfico anterior se puede observar que los datos se encuetran balanceados."
   ]
  },
  {
   "cell_type": "markdown",
   "metadata": {},
   "source": [
    "### 3.1.20. Higher\n",
    "\n",
    "Este atributo indica si los estudiantes desean asistir a la universidad o educiación superior. Este atributo cuenta con datos con valores de 'yes' ó 'no', razón por la cual deben ser transformados a valores númericos donde:\n",
    "\n",
    "* 0 : No desea asistir a la universidad.\n",
    "* 1 : Si desea asistir a la universidad."
   ]
  },
  {
   "cell_type": "code",
   "execution_count": 37,
   "metadata": {},
   "outputs": [],
   "source": [
    "students_grades.higher.replace(to_replace = \"no\"  , value = 0, inplace=True)\n",
    "students_grades.higher.replace(to_replace = \"yes\" , value = 1, inplace=True)"
   ]
  },
  {
   "cell_type": "markdown",
   "metadata": {},
   "source": [
    "Se hizo una gráfica de barras para observar el comportamiento de los datos referente a este atributo."
   ]
  },
  {
   "cell_type": "code",
   "execution_count": 38,
   "metadata": {},
   "outputs": [
    {
     "data": {
      "image/png": "[encoded data removed]",
      "text/plain": [
       "<Figure size 432x288 with 1 Axes>"
      ]
     },
     "metadata": {
      "needs_background": "light"
     },
     "output_type": "display_data"
    }
   ],
   "source": [
    "x_higher = ['No','Si']\n",
    "y_higher =  students_grades[['higher','G3']].groupby('higher').count()\n",
    "y_higher.columns = ['count']\n",
    "plt.bar(x_higher, y_higher['count'])\n",
    "plt.title('Students higher education expectation distribution')\n",
    "plt.show()"
   ]
  },
  {
   "cell_type": "markdown",
   "metadata": {},
   "source": [
    "### 3.1.21. Internet\n",
    "\n",
    "Este atributo indica si los estudiantes cuentan con acceso a internet en casa, los valores para este atributo son strings de 'yes' o 'no', razón por la cual deben ser transformados a valores númericos para poder ser procesados y visualizados de manera que:\n",
    "\n",
    "* 0 : No cuenta con acceso a internet en casa.\n",
    "* 1 : Si cuenta con acceso a internet en casa."
   ]
  },
  {
   "cell_type": "code",
   "execution_count": 39,
   "metadata": {},
   "outputs": [],
   "source": [
    "students_grades.internet.replace(to_replace = \"no\"  , value = 0, inplace=True)\n",
    "students_grades.internet.replace(to_replace = \"yes\" , value = 1, inplace=True)"
   ]
  },
  {
   "cell_type": "markdown",
   "metadata": {},
   "source": [
    "También se gráfican estos datos con el fin de observar si se encuentran balanceados o no."
   ]
  },
  {
   "cell_type": "code",
   "execution_count": 40,
   "metadata": {},
   "outputs": [
    {
     "data": {
      "image/png": "[encoded data removed]",
      "text/plain": [
       "<Figure size 432x288 with 1 Axes>"
      ]
     },
     "metadata": {
      "needs_background": "light"
     },
     "output_type": "display_data"
    }
   ],
   "source": [
    "x_internet = ['No','Si']\n",
    "y_internet =  students_grades[['internet','G3']].groupby('internet').count()\n",
    "y_internet.columns = ['count']\n",
    "plt.bar(x_internet, y_internet['count'])\n",
    "plt.title('Students internet access')\n",
    "plt.show()"
   ]
  },
  {
   "cell_type": "markdown",
   "metadata": {},
   "source": [
    "En la gráfica anterior se puede observar que los datos se encuentran balanceados."
   ]
  },
  {
   "cell_type": "markdown",
   "metadata": {},
   "source": [
    "### 3.1.22. Romantic\n",
    "\n",
    "Este atributo corresponde a si el estudiante se encuentran en una relación amorosa o no, los valores para este atributo en el dataset son de 'yes' ó 'no', razón por la cual deben ser transformados a valores númericos donde:\n",
    "\n",
    "* 0 : No se encuentra en una relación amorosa.\n",
    "* 1 : Si se encuentra en una relación amorosa."
   ]
  },
  {
   "cell_type": "code",
   "execution_count": 41,
   "metadata": {},
   "outputs": [],
   "source": [
    "students_grades.romantic.replace(to_replace = \"no\"  , value = 0, inplace=True)\n",
    "students_grades.romantic.replace(to_replace = \"yes\" , value = 1, inplace=True)"
   ]
  },
  {
   "cell_type": "markdown",
   "metadata": {},
   "source": [
    "También se realiza un gráfico de barras para este atributo, con el fin de determinar si se encuentra balanceado o no."
   ]
  },
  {
   "cell_type": "code",
   "execution_count": 42,
   "metadata": {
    "scrolled": true
   },
   "outputs": [
    {
     "data": {
      "image/png": "[encoded data removed]",
      "text/plain": [
       "<Figure size 432x288 with 1 Axes>"
      ]
     },
     "metadata": {
      "needs_background": "light"
     },
     "output_type": "display_data"
    }
   ],
   "source": [
    "x_romantic = ['No','Si']\n",
    "y_romantic =  students_grades[['romantic','G3']].groupby('romantic').count()\n",
    "y_romantic.columns = ['count']\n",
    "plt.bar(x_romantic, y_romantic['count'])\n",
    "plt.title('Students Romantic Relationship  Distribution')\n",
    "plt.show()"
   ]
  },
  {
   "cell_type": "markdown",
   "metadata": {},
   "source": [
    "En el gráfico anterior se puede observar que los datos se encuentran balanceados."
   ]
  },
  {
   "cell_type": "markdown",
   "metadata": {},
   "source": [
    "### 3.1.23. Famrel\n",
    "\n",
    "Este atributo indica la calidad de relación del estudiante con su familia, los valores se encuentran en el rango de 1 a 5 donde 1 corresponde a una calidad muy mala y 5 a una calidad excelente. Al estar en valores númericos no fue necesaria una transformación de los datos para este atributo. Pero se procede a gráficar los datos con el fin de observar si los mismos se encuetran balanceados."
   ]
  },
  {
   "cell_type": "code",
   "execution_count": 43,
   "metadata": {},
   "outputs": [
    {
     "data": {
      "image/png": "[encoded data removed]",
      "text/plain": [
       "<Figure size 432x288 with 1 Axes>"
      ]
     },
     "metadata": {
      "needs_background": "light"
     },
     "output_type": "display_data"
    }
   ],
   "source": [
    "x_famrel = ['very bad', 'bad', 'normal','good', 'very good']\n",
    "y_famrel =  students_grades[['famrel','G3']].groupby('famrel').count()\n",
    "y_famrel.columns = ['count']\n",
    "plt.bar(x_famrel, y_famrel['count'])\n",
    "plt.title('Students Family Relationship Quality Distribution')\n",
    "plt.show()"
   ]
  },
  {
   "cell_type": "markdown",
   "metadata": {},
   "source": [
    "Es posible observar que los datos se encuentran balanceados en el gráfico anterior."
   ]
  },
  {
   "cell_type": "markdown",
   "metadata": {},
   "source": [
    "### 3.1.24. Freetime\n",
    "\n",
    "Este atributo indica la cantidad de tiempo libre del estudiante despues de la escuela, los valores van del rango de 1 a 5, donde 1 corresponde a muy poco, y 5 a muy alto. Dado que los datos son valores númericos no fue necesaria ninguna transformación pero si es necesario graficar estos datos para determinar si se encuentran balanceados o no."
   ]
  },
  {
   "cell_type": "code",
   "execution_count": 44,
   "metadata": {},
   "outputs": [
    {
     "data": {
      "image/png": "[encoded data removed]",
      "text/plain": [
       "<Figure size 432x288 with 1 Axes>"
      ]
     },
     "metadata": {
      "needs_background": "light"
     },
     "output_type": "display_data"
    }
   ],
   "source": [
    "x_freetime = ['Very low','Low', 'Normal', 'High', 'Very high']\n",
    "y_freetime =  students_grades[['freetime','G3']].groupby('freetime').count()\n",
    "y_freetime.columns = ['count']\n",
    "plt.bar(x_freetime, y_freetime['count'])\n",
    "plt.title('Students Freetime after School  Distribution')\n",
    "plt.show()"
   ]
  },
  {
   "cell_type": "markdown",
   "metadata": {},
   "source": [
    "En el gráfico anterior es posible observar que los datos se encuentran balanceados."
   ]
  },
  {
   "cell_type": "markdown",
   "metadata": {},
   "source": [
    "### 3.1.25. Goout\n",
    "\n",
    "Este atributo indica la frecuencia con la que el estudiante sale con sus amigos, los valores se encuentran en el rango de 1 a 5, donde 1 corresponde a que sale muy poco y 5 que sale muy frecuentemente. Para este atributo se gráficaron los datos para observar si los mismos se encuentran balanceados o no."
   ]
  },
  {
   "cell_type": "code",
   "execution_count": 45,
   "metadata": {},
   "outputs": [
    {
     "data": {
      "image/png": "[encoded data removed]",
      "text/plain": [
       "<Figure size 432x288 with 1 Axes>"
      ]
     },
     "metadata": {
      "needs_background": "light"
     },
     "output_type": "display_data"
    }
   ],
   "source": [
    "x_goout= ['Very low','Low', 'Normal', 'High', 'Very high']\n",
    "y_goout =  students_grades[['goout','G3']].groupby('goout').count()\n",
    "y_goout.columns = ['count']\n",
    "plt.bar(x_goout, y_goout['count'])\n",
    "plt.title('Students going out with friends  distribution')\n",
    "plt.show()"
   ]
  },
  {
   "cell_type": "markdown",
   "metadata": {},
   "source": [
    "En la gráfica anterior es posible observar que los datos estan balanceados."
   ]
  },
  {
   "cell_type": "markdown",
   "metadata": {},
   "source": [
    "### 3.1.25. Dalc\n",
    "\n",
    "Este atributo indica la frecuencia de consumo de alcohol del estudiante entre semana. Los datos estan en el rango de 1 a 5, donde 1 corresponde a muy poco y 5 corresponde a muy frecuentemente. Se graficó los datos con el fin de determinar si los mismos estan balanceados o no."
   ]
  },
  {
   "cell_type": "code",
   "execution_count": 46,
   "metadata": {},
   "outputs": [
    {
     "data": {
      "image/png": "[encoded data removed]",
      "text/plain": [
       "<Figure size 432x288 with 1 Axes>"
      ]
     },
     "metadata": {
      "needs_background": "light"
     },
     "output_type": "display_data"
    }
   ],
   "source": [
    "x_dalc= ['Very low','Low', 'Normal', 'High', 'Very high']\n",
    "y_dalc =  students_grades[['Dalc','G3']].groupby('Dalc').count()\n",
    "y_dalc.columns = ['count']\n",
    "plt.bar(x_dalc, y_dalc['count'])\n",
    "plt.title('Students workday alcohol consumption  distribution')\n",
    "plt.show()"
   ]
  },
  {
   "cell_type": "markdown",
   "metadata": {},
   "source": [
    "### 3.1.26. Walc\n",
    "\n",
    "Este atributo indica la frecuencia de consumo de alcohol del estudiante los fines de semana. Los datos estan en el rango de 1 a 5, donde 1 corresponde a muy poco y 5 corresponde a muy frecuentemente. Se graficó los datos con el fin de determinar si los mismos estan balanceados o no."
   ]
  },
  {
   "cell_type": "code",
   "execution_count": 47,
   "metadata": {
    "scrolled": true
   },
   "outputs": [
    {
     "data": {
      "image/png": "[encoded data removed]",
      "text/plain": [
       "<Figure size 432x288 with 1 Axes>"
      ]
     },
     "metadata": {
      "needs_background": "light"
     },
     "output_type": "display_data"
    }
   ],
   "source": [
    "x_walc= ['Very low','Low', 'Normal', 'High', 'Very high']\n",
    "y_walc =  students_grades[['Walc','G3']].groupby('Walc').count()\n",
    "y_walc.columns = ['count']\n",
    "plt.bar(x_walc, y_walc['count'])\n",
    "plt.title('Students workday alcohol consumption  distribution')\n",
    "plt.show()"
   ]
  },
  {
   "cell_type": "markdown",
   "metadata": {},
   "source": [
    "### 3.1.27. Health\n",
    "\n",
    "Este atributo el estado de salud del estudiante, los valores están en el rango de 1 a 5, donde 1 corresponde a muy mala y 5 a muy buena. Se graficó los datos con el fin de determinar si los mismos estan balanecados o no."
   ]
  },
  {
   "cell_type": "code",
   "execution_count": 48,
   "metadata": {},
   "outputs": [
    {
     "data": {
      "image/png": "[encoded data removed]",
      "text/plain": [
       "<Figure size 432x288 with 1 Axes>"
      ]
     },
     "metadata": {
      "needs_background": "light"
     },
     "output_type": "display_data"
    }
   ],
   "source": [
    "x_health = ['Very bad','Bad', 'Normal', 'Good', 'Very good']\n",
    "y_health =  students_grades[['health','G3']].groupby('health').count()\n",
    "y_health.columns = ['count']\n",
    "plt.bar(x_health, y_health['count'])\n",
    "plt.title('Students health status distribution')\n",
    "plt.show()"
   ]
  },
  {
   "cell_type": "markdown",
   "metadata": {},
   "source": [
    "Es posible observar que los datos se encuentran balanceados para este atributo."
   ]
  },
  {
   "cell_type": "markdown",
   "metadata": {},
   "source": [
    "### 3.1.28.  Absences\n",
    "\n",
    "Este atributo indica la cantidad de ausencias del estudiante, es un valor que va del rango de 0 a 93. Se opto por normalizar dichos valores con el fin de remover cualquier problema a futuro por la escala del mismo."
   ]
  },
  {
   "cell_type": "code",
   "execution_count": 49,
   "metadata": {},
   "outputs": [
    {
     "name": "stdout",
     "output_type": "stream",
     "text": [
      "0      0.030735\n",
      "1      0.020490\n",
      "2      0.051226\n",
      "3      0.010245\n",
      "4      0.020490\n",
      "         ...   \n",
      "390    0.056348\n",
      "391    0.015368\n",
      "392    0.015368\n",
      "393    0.000000\n",
      "394    0.025613\n",
      "Name: absences, Length: 395, dtype: float64\n"
     ]
    }
   ],
   "source": [
    "students_grades['absences'] = normalize([students_grades['absences']])[0]\n",
    "print(students_grades['absences'])"
   ]
  },
  {
   "cell_type": "markdown",
   "metadata": {},
   "source": [
    "### 3.1.29. Final Grade\n",
    "\n",
    "Este atributo corresponde a la nota final en la materia de matemáticas de los estudiantes. La misma se encuentra en el rango de 0 a 20, se procede a gráficar dichos valores con el fin de observar su distribución."
   ]
  },
  {
   "cell_type": "code",
   "execution_count": 50,
   "metadata": {},
   "outputs": [
    {
     "data": {
      "image/png": "[encoded data removed]",
      "text/plain": [
       "<Figure size 432x288 with 1 Axes>"
      ]
     },
     "metadata": {
      "needs_background": "light"
     },
     "output_type": "display_data"
    }
   ],
   "source": [
    "y_fgrade =  students_grades[['G3','sex']].groupby('G3').count()\n",
    "y_fgrade.columns = ['count']\n",
    "plt.bar(y_fgrade.index, y_fgrade['count'])\n",
    "plt.title('Students Final Grade Distribution')\n",
    "plt.show()"
   ]
  },
  {
   "cell_type": "markdown",
   "metadata": {},
   "source": [
    "En este caso se van a eliminar los outliers con el fin de obtener una distribución normal. (Utilizaremos un factor de 2 veces la desviación estandar)."
   ]
  },
  {
   "cell_type": "code",
   "execution_count": 51,
   "metadata": {
    "scrolled": true
   },
   "outputs": [],
   "source": [
    "elements = nu.array(students_grades['G3'])\n",
    "mean     = nu.mean(elements,axis=0)\n",
    "sd       = nu.std(elements,axis=0)\n",
    "list_of_index_to_delete = []\n",
    "for row in students_grades.iterrows():\n",
    "    if (row[1].G3 < (mean - 2 * sd)) or (row[1].G3 > (mean + 2 * sd)) :\n",
    "        students_grades.drop(row[0], inplace=True)"
   ]
  },
  {
   "cell_type": "markdown",
   "metadata": {},
   "source": [
    "Luego de eliminar los outliers, se procede a graficar nuevamente."
   ]
  },
  {
   "cell_type": "code",
   "execution_count": 52,
   "metadata": {},
   "outputs": [
    {
     "data": {
      "image/png": "[encoded data removed]",
      "text/plain": [
       "<Figure size 432x288 with 1 Axes>"
      ]
     },
     "metadata": {
      "needs_background": "light"
     },
     "output_type": "display_data"
    }
   ],
   "source": [
    "y_fgrade =  students_grades[['G3','sex']].groupby('G3').count()\n",
    "y_fgrade.columns = ['count']\n",
    "plt.bar(y_fgrade.index, y_fgrade['count'])\n",
    "plt.title('Students Final Grade Distribution')\n",
    "plt.show()"
   ]
  },
  {
   "cell_type": "markdown",
   "metadata": {},
   "source": [
    "Ahora al observar el gráfico nuevamente es fácil distinguir que el mismo sigue una distribución normal."
   ]
  },
  {
   "cell_type": "markdown",
   "metadata": {},
   "source": [
    "## 3.2. Algunas Gráficas\n",
    "\n",
    "En esta sección se gráfican algunos de los atributos con respecto al desempeño de notas de los estudiantes con el fin de observar su comportamiento. Las gráficas corresponden diagramas de dispersión. "
   ]
  },
  {
   "cell_type": "code",
   "execution_count": 53,
   "metadata": {},
   "outputs": [
    {
     "data": {
      "image/png": "[encoded data removed]",
      "text/plain": [
       "<Figure size 432x288 with 1 Axes>"
      ]
     },
     "metadata": {
      "needs_background": "light"
     },
     "output_type": "display_data"
    }
   ],
   "source": [
    "plt.scatter(students_grades['address'], students_grades['G3'])\n",
    "plt.xlabel('Address')\n",
    "plt.ylabel('Final Grade')\n",
    "plt.show()"
   ]
  },
  {
   "cell_type": "code",
   "execution_count": 54,
   "metadata": {},
   "outputs": [
    {
     "data": {
      "image/png": "[encoded data removed]",
      "text/plain": [
       "<Figure size 432x288 with 1 Axes>"
      ]
     },
     "metadata": {
      "needs_background": "light"
     },
     "output_type": "display_data"
    }
   ],
   "source": [
    "plt.scatter(students_grades['studytime'], students_grades['G3'])\n",
    "plt.xlabel('Study Time')\n",
    "plt.ylabel('Final Grade')\n",
    "plt.show()"
   ]
  },
  {
   "cell_type": "code",
   "execution_count": 55,
   "metadata": {},
   "outputs": [
    {
     "data": {
      "image/png": "[encoded data removed]",
      "text/plain": [
       "<Figure size 432x288 with 1 Axes>"
      ]
     },
     "metadata": {
      "needs_background": "light"
     },
     "output_type": "display_data"
    }
   ],
   "source": [
    "plt.scatter(students_grades['internet'], students_grades['G3'])\n",
    "plt.xlabel('Internet access at home')\n",
    "plt.ylabel('Final Grade')\n",
    "plt.show()"
   ]
  },
  {
   "cell_type": "code",
   "execution_count": 56,
   "metadata": {},
   "outputs": [
    {
     "data": {
      "image/png": "[encoded data removed]",
      "text/plain": [
       "<Figure size 432x288 with 1 Axes>"
      ]
     },
     "metadata": {
      "needs_background": "light"
     },
     "output_type": "display_data"
    }
   ],
   "source": [
    "plt.scatter(students_grades['Pstatus'], students_grades['G3'])\n",
    "plt.xlabel('Parents cohabitation status')\n",
    "plt.ylabel('Final Grade')\n",
    "plt.show()"
   ]
  },
  {
   "cell_type": "code",
   "execution_count": 57,
   "metadata": {},
   "outputs": [
    {
     "data": {
      "image/png": "[encoded data removed]",
      "text/plain": [
       "<Figure size 432x288 with 1 Axes>"
      ]
     },
     "metadata": {
      "needs_background": "light"
     },
     "output_type": "display_data"
    }
   ],
   "source": [
    "plt.scatter(students_grades['health'], students_grades['G3'])\n",
    "plt.xlabel('Student Health')\n",
    "plt.ylabel('Final Grade')\n",
    "plt.show()"
   ]
  }
 ],
 "metadata": {
  "kernelspec": {
   "display_name": "Python 3",
   "language": "python",
   "name": "python3"
  },
  "language_info": {
   "codemirror_mode": {
    "name": "ipython",
    "version": 3
   },
   "file_extension": ".py",
   "mimetype": "text/x-python",
   "name": "python",
   "nbconvert_exporter": "python",
   "pygments_lexer": "ipython3",
   "version": "3.8.3"
  }
 },
 "nbformat": 4,
 "nbformat_minor": 4
}
